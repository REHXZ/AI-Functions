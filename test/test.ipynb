{
 "cells": [
  {
   "cell_type": "code",
   "execution_count": 1,
   "id": "2f63a893",
   "metadata": {},
   "outputs": [],
   "source": [
    "import os\n",
    "import sys\n",
    "import json\n",
    "import inspect\n",
    "import importlib.util\n",
    "from pathlib import Path\n",
    "import base64\n",
    "from google import genai\n",
    "from google.genai import types"
   ]
  },
  {
   "cell_type": "code",
   "execution_count": 9,
   "id": "109e466a",
   "metadata": {},
   "outputs": [
    {
     "name": "stdout",
     "output_type": "stream",
     "text": [
      "spec: ModuleSpec(name='AI_default_functions', loader=<_frozen_importlib_external.SourceFileLoader object at 0x00000180E5129460>, origin='c:\\\\Users\\\\REHXX\\\\OneDrive\\\\Documents\\\\GitHub\\\\AI-Functions\\\\AI_Function\\\\AI_default_functions.py')\n",
      "module: <module 'AI_default_functions' from 'c:\\\\Users\\\\REHXX\\\\OneDrive\\\\Documents\\\\GitHub\\\\AI-Functions\\\\AI_Function\\\\AI_default_functions.py'>\n"
     ]
    },
    {
     "data": {
      "text/plain": [
       "(ModuleSpec(name='AI_default_functions', loader=<_frozen_importlib_external.SourceFileLoader object at 0x00000180E5129460>, origin='c:\\\\Users\\\\REHXX\\\\OneDrive\\\\Documents\\\\GitHub\\\\AI-Functions\\\\AI_Function\\\\AI_default_functions.py'),\n",
       " <module 'AI_default_functions' from 'c:\\\\Users\\\\REHXX\\\\OneDrive\\\\Documents\\\\GitHub\\\\AI-Functions\\\\AI_Function\\\\AI_default_functions.py'>)"
      ]
     },
     "execution_count": 9,
     "metadata": {},
     "output_type": "execute_result"
    }
   ],
   "source": [
    "def fun():\n",
    "    \"\"\"Dynamically discover and load all classes and functions from AI_*.py files\"\"\"\n",
    "    # Use the current working directory instead of __file__ for notebook compatibility\n",
    "    ai_function_dir = Path.cwd().parent / \"AI_Function\"\n",
    "\n",
    "    if not ai_function_dir.exists():\n",
    "        print(f\"Warning: AI_Function directory not found at {ai_function_dir}\")\n",
    "        return\n",
    "\n",
    "    # Find all AI_*.py files\n",
    "    ai_files = list(ai_function_dir.glob(\"AI_*.py\"))\n",
    "\n",
    "    for file_path in ai_files:\n",
    "        try:\n",
    "            # Load the module dynamically\n",
    "            spec = importlib.util.spec_from_file_location(file_path.stem, file_path)\n",
    "            module = importlib.util.module_from_spec(spec)\n",
    "            print(f\"spec: {spec}\")\n",
    "            print(f\"module: {module}\")\n",
    "            return spec,module\n",
    "            spec.loader.exec_module(module)\n",
    "            \n",
    "            # Find all classes in the module\n",
    "            for name, obj in inspect.getmembers(module, inspect.isclass):\n",
    "                if obj.__module__ == module.__name__:  # Only classes defined in this module\n",
    "                    try:\n",
    "                        # Instantiate the class and get its methods\n",
    "                        instance = obj()\n",
    "                        self.class_instances[name] = instance\n",
    "                        \n",
    "                        # Add all public methods to function_map\n",
    "                        for method_name, method in inspect.getmembers(instance, inspect.ismethod):\n",
    "                            if not method_name.startswith(\"_\"):\n",
    "                                # Create a unique key for the function\n",
    "                                func_key = f\"{name.lower()}_{method_name}\".replace(\"calculator_\", \"\")\n",
    "                                self.function_map[func_key] = method\n",
    "                                # Also add without class name for convenience\n",
    "                                self.function_map[method_name] = method\n",
    "                    except Exception as e:\n",
    "                        print(f\"Warning: Could not instantiate class {name} from {file_path.name}: {e}\")\n",
    "            \n",
    "            # Find all functions in the module\n",
    "            for name, obj in inspect.getmembers(module, inspect.isfunction):\n",
    "                if obj.__module__ == module.__name__:  # Only functions defined in this module\n",
    "                    self.function_map[name] = obj\n",
    "            \n",
    "        except Exception as e:\n",
    "            print(f\"Warning: Could not load {file_path.name}: {e}\")\n",
    "\n",
    "fun()"
   ]
  },
  {
   "cell_type": "code",
   "execution_count": null,
   "id": "b7756039",
   "metadata": {},
   "outputs": [],
   "source": []
  }
 ],
 "metadata": {
  "kernelspec": {
   "display_name": "venv (3.12.10)",
   "language": "python",
   "name": "python3"
  },
  "language_info": {
   "codemirror_mode": {
    "name": "ipython",
    "version": 3
   },
   "file_extension": ".py",
   "mimetype": "text/x-python",
   "name": "python",
   "nbconvert_exporter": "python",
   "pygments_lexer": "ipython3",
   "version": "3.12.10"
  }
 },
 "nbformat": 4,
 "nbformat_minor": 5
}
